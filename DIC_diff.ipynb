{
 "cells": [
  {
   "cell_type": "code",
   "execution_count": 16,
   "id": "c39b6b04-2e37-4a40-9729-7c711787e4f5",
   "metadata": {},
   "outputs": [
    {
     "ename": "AttributeError",
     "evalue": "'numpy.ndarray' object has no attribute 'pcolormesh'",
     "output_type": "error",
     "traceback": [
      "\u001b[0;31m---------------------------------------------------------------------------\u001b[0m",
      "\u001b[0;31mAttributeError\u001b[0m                            Traceback (most recent call last)",
      "Cell \u001b[0;32mIn[16], line 33\u001b[0m\n\u001b[1;32m     29\u001b[0m \u001b[38;5;66;03m#print(ds2.variables['dissic'])\u001b[39;00m\n\u001b[1;32m     30\u001b[0m \u001b[38;5;66;03m#fig, axes = plt.subplots(nrows=3, ncols=2, figsize=(12, 12),sharex=True, sharey=True)\u001b[39;00m\n\u001b[1;32m     31\u001b[0m fig, axes \u001b[38;5;241m=\u001b[39m plt\u001b[38;5;241m.\u001b[39msubplots(nrows\u001b[38;5;241m=\u001b[39m\u001b[38;5;241m3\u001b[39m, ncols\u001b[38;5;241m=\u001b[39m\u001b[38;5;241m2\u001b[39m, figsize\u001b[38;5;241m=\u001b[39m(\u001b[38;5;241m12\u001b[39m,\u001b[38;5;241m12\u001b[39m), subplot_kw\u001b[38;5;241m=\u001b[39m{\u001b[38;5;124m'\u001b[39m\u001b[38;5;124mprojection\u001b[39m\u001b[38;5;124m'\u001b[39m: ccrs\u001b[38;5;241m.\u001b[39mPlateCarree()})\n\u001b[0;32m---> 33\u001b[0m c1 \u001b[38;5;241m=\u001b[39m \u001b[43maxes\u001b[49m\u001b[43m[\u001b[49m\u001b[38;5;241;43m0\u001b[39;49m\u001b[43m]\u001b[49m\u001b[38;5;241;43m.\u001b[39;49m\u001b[43mpcolormesh\u001b[49m(lon, lat, dic_test1_clim[d_idx, :, :], cmap\u001b[38;5;241m=\u001b[39m\u001b[38;5;124m'\u001b[39m\u001b[38;5;124mviridis\u001b[39m\u001b[38;5;124m'\u001b[39m, transform\u001b[38;5;241m=\u001b[39mccrs\u001b[38;5;241m.\u001b[39mPlateCarree())\n\u001b[1;32m     34\u001b[0m axes[\u001b[38;5;241m0\u001b[39m]\u001b[38;5;241m.\u001b[39mcoastlines()\n\u001b[1;32m     35\u001b[0m axes[\u001b[38;5;241m0\u001b[39m]\u001b[38;5;241m.\u001b[39mgridlines(draw_labels\u001b[38;5;241m=\u001b[39m\u001b[38;5;28;01mTrue\u001b[39;00m, linestyle\u001b[38;5;241m=\u001b[39m\u001b[38;5;124m'\u001b[39m\u001b[38;5;124m--\u001b[39m\u001b[38;5;124m'\u001b[39m, linewidth\u001b[38;5;241m=\u001b[39m\u001b[38;5;241m0.5\u001b[39m)\n",
      "\u001b[0;31mAttributeError\u001b[0m: 'numpy.ndarray' object has no attribute 'pcolormesh'"
     ]
    },
    {
     "data": {
      "image/png": "[encoded data removed]",
      "text/plain": [
       "<Figure size 1200x1200 with 6 Axes>"
      ]
     },
     "metadata": {},
     "output_type": "display_data"
    }
   ],
   "source": [
    "import netCDF4 as nc\n",
    "import numpy as np\n",
    "import matplotlib.pyplot as plt\n",
    "import cartopy.crs as ccrs\n",
    "import cartopy.feature as cfeature\n",
    "\n",
    "file_path1 ='/work/uo1451/m301158/MPI-ESM/data/test_pictrl003/'\n",
    "file_path2 ='/work/uo1451/m301158/MPI-ESM/data/test_pictrl_ver2_001/'\n",
    "\n",
    "ds1=nc.Dataset(file_path1+'dissic_nat_r192x96_185001-190012.nc')\n",
    "dic_test1=ds1.variables['dissic'][:]\n",
    "lon=ds1.variables['lon'][:]\n",
    "lat=ds1.variables['lat'][:]\n",
    "dic_nat_test1=ds1.variables['dissicnat'][:]\n",
    "\n",
    "ds2=nc.Dataset(file_path2+'dissic_nat_r192x96_185001-190012.nc')\n",
    "dic_test2=ds2.variables['dissic'][:] # time(51)*depth(40)*lat(96)*lon(192)\n",
    "dic_nat_test2=ds2.variables['dissicnat'][:]\n",
    "\n",
    "dic_test1_clim=np.mean(dic_test1,axis=0)\n",
    "dic_test2_clim=np.mean(dic_test2,axis=0)\n",
    "dic_nat_test1_clim=np.mean(dic_nat_test1,axis=0)\n",
    "dic_nat_test2_clim=np.mean(dic_nat_test2,axis=0)\n",
    "dic_diff_test1=dic_test1_clim-dic_nat_test1_clim\n",
    "dic_diff_test2=dic_test2_clim-dic_nat_test2_clim\n",
    "\n",
    "d_idx=0\n",
    "\n",
    "#print(ds2.variables['dissic'])\n",
    "#fig, axes = plt.subplots(nrows=3, ncols=2, figsize=(12, 12),sharex=True, sharey=True)\n",
    "fig, axes = plt.subplots(nrows=3, ncols=2, figsize=(12,12), subplot_kw={'projection': ccrs.PlateCarree()})\n",
    "\n",
    "c1 = axes[0].pcolormesh(lon, lat, dic_test1_clim[d_idx, :, :], cmap='viridis', transform=ccrs.PlateCarree())\n",
    "axes[0].coastlines()\n",
    "axes[0].gridlines(draw_labels=True, linestyle='--', linewidth=0.5)\n",
    "axes[0].set_title('DIC_total')\n",
    "plt.colorbar(c1, ax=axes[0], orientation='horizontal', pad=0.05, label='')\n",
    "\n",
    "c2 = axes[1].pcolormesh(lon, lat, dic_nat_test1_clim[d_idx, :, :], cmap='viridis', transform=ccrs.PlateCarree())\n",
    "axes[1].coastlines()\n",
    "axes[1].add_feature(cfeature.BORDERS, linewidth=0.5)\n",
    "axes[1].gridlines(draw_labels=True, linestyle='--', linewidth=0.5)\n",
    "axes[1].set_title('DIC_nat')\n",
    "plt.colorbar(c2, ax=axes[1], orientation='horizontal', pad=0.05, label='')\n",
    "\n",
    "c3 = axes[2].pcolormesh(lon, lat, dic_diff_test1[d_idx, :, :], cmap='RdBu_r', transform=ccrs.PlateCarree())\n",
    "axes[2].coastlines()\n",
    "axes[2].add_feature(cfeature.BORDERS, linewidth=0.5)\n",
    "axes[2].gridlines(draw_labels=True, linestyle='--', linewidth=0.5)\n",
    "axes[2].set_title('DIC_diff')\n",
    "plt.colorbar(c3, ax=axes[2], orientation='horizontal', pad=0.05, label='')\n",
    "\n",
    "c4 = axes[3].pcolormesh(lon, lat, dic_test2_clim[d_idx, :, :], cmap='viridis', transform=ccrs.PlateCarree())\n",
    "axes[3].coastlines()\n",
    "axes[3].gridlines(draw_labels=True, linestyle='--', linewidth=0.5)\n",
    "axes[3].set_title('')\n",
    "plt.colorbar(c4, ax=axes[3], orientation='horizontal', pad=0.05, label='')\n",
    "\n",
    "c5 = axes[4].pcolormesh(lon, lat, dic_nat_test2_clim[d_idx, :, :], cmap='viridis', transform=ccrs.PlateCarree())\n",
    "axes[4].coastlines()\n",
    "axes[4].add_feature(cfeature.BORDERS, linewidth=0.5)\n",
    "axes[4].gridlines(draw_labels=True, linestyle='--', linewidth=0.5)\n",
    "axes[4].set_title('')\n",
    "plt.colorbar(c5, ax=axes[4], orientation='horizontal', pad=0.05, label='')\n",
    "\n",
    "c6 = axes[5].pcolormesh(lon, lat, dic_diff_test2[d_idx, :, :], cmap='RdBu_r', transform=ccrs.PlateCarree())\n",
    "axes[5].coastlines()\n",
    "axes[5].add_feature(cfeature.BORDERS, linewidth=0.5)\n",
    "axes[5].gridlines(draw_labels=True, linestyle='--', linewidth=0.5)\n",
    "axes[5].set_title('')\n",
    "plt.colorbar(c6, ax=axes[5], orientation='horizontal', pad=0.05, label='')\n",
    "\n",
    "plt.tight_layout()\n",
    "plt.show()\n"
   ]
  },
  {
   "cell_type": "code",
   "execution_count": 3,
   "id": "12264a03-eb57-480e-91f4-8fa8ed41a07b",
   "metadata": {},
   "outputs": [
    {
     "name": "stdout",
     "output_type": "stream",
     "text": [
      "Defaulting to user installation because normal site-packages is not writeable\n",
      "Collecting basemap\n",
      "  Downloading basemap-1.4.1-cp310-cp310-manylinux1_x86_64.whl (935 kB)\n",
      "\u001b[2K     \u001b[90m━━━━━━━━━━━━━━━━━━━━━━━━━━━━━━━━━━━━━━\u001b[0m \u001b[32m936.0/936.0 kB\u001b[0m \u001b[31m13.1 MB/s\u001b[0m eta \u001b[36m0:00:00\u001b[0m00:01\u001b[0m00:01\u001b[0m\n",
      "\u001b[?25hCollecting basemap-data<1.4,>=1.3.2\n",
      "  Downloading basemap_data-1.3.2-py2.py3-none-any.whl (30.5 MB)\n",
      "\u001b[2K     \u001b[90m━━━━━━━━━━━━━━━━━━━━━━━━━━━━━━━━━━━━━━━━\u001b[0m \u001b[32m30.5/30.5 MB\u001b[0m \u001b[31m83.1 MB/s\u001b[0m eta \u001b[36m0:00:00\u001b[0m00:01\u001b[0m00:01\u001b[0m\n",
      "\u001b[?25hRequirement already satisfied: matplotlib<3.9,>=1.5 in /sw/spack-levante/mambaforge-22.9.0-2-Linux-x86_64-kptncg/lib/python3.10/site-packages (from basemap) (3.5.3)\n",
      "Requirement already satisfied: pyproj<3.7.0,>=1.9.3 in /sw/spack-levante/mambaforge-22.9.0-2-Linux-x86_64-kptncg/lib/python3.10/site-packages (from basemap) (3.3.1)\n",
      "Requirement already satisfied: pyshp<2.4,>=1.2 in /sw/spack-levante/mambaforge-22.9.0-2-Linux-x86_64-kptncg/lib/python3.10/site-packages (from basemap) (2.3.1)\n",
      "Requirement already satisfied: numpy<1.27,>=1.21 in /sw/spack-levante/mambaforge-22.9.0-2-Linux-x86_64-kptncg/lib/python3.10/site-packages (from basemap) (1.23.4)\n",
      "Requirement already satisfied: packaging<24.0,>=16.0 in /sw/spack-levante/mambaforge-22.9.0-2-Linux-x86_64-kptncg/lib/python3.10/site-packages (from basemap) (23.1)\n",
      "Requirement already satisfied: python-dateutil>=2.7 in /sw/spack-levante/mambaforge-22.9.0-2-Linux-x86_64-kptncg/lib/python3.10/site-packages (from matplotlib<3.9,>=1.5->basemap) (2.8.2)\n",
      "Requirement already satisfied: pillow>=6.2.0 in /sw/spack-levante/mambaforge-22.9.0-2-Linux-x86_64-kptncg/lib/python3.10/site-packages (from matplotlib<3.9,>=1.5->basemap) (9.2.0)\n",
      "Requirement already satisfied: pyparsing>=2.2.1 in /sw/spack-levante/mambaforge-22.9.0-2-Linux-x86_64-kptncg/lib/python3.10/site-packages (from matplotlib<3.9,>=1.5->basemap) (3.0.9)\n",
      "Requirement already satisfied: kiwisolver>=1.0.1 in /sw/spack-levante/mambaforge-22.9.0-2-Linux-x86_64-kptncg/lib/python3.10/site-packages (from matplotlib<3.9,>=1.5->basemap) (1.4.4)\n",
      "Requirement already satisfied: cycler>=0.10 in /sw/spack-levante/mambaforge-22.9.0-2-Linux-x86_64-kptncg/lib/python3.10/site-packages (from matplotlib<3.9,>=1.5->basemap) (0.11.0)\n",
      "Requirement already satisfied: fonttools>=4.22.0 in /sw/spack-levante/mambaforge-22.9.0-2-Linux-x86_64-kptncg/lib/python3.10/site-packages (from matplotlib<3.9,>=1.5->basemap) (4.39.3)\n",
      "Requirement already satisfied: certifi in /sw/spack-levante/mambaforge-22.9.0-2-Linux-x86_64-kptncg/lib/python3.10/site-packages (from pyproj<3.7.0,>=1.9.3->basemap) (2024.7.4)\n",
      "Requirement already satisfied: six>=1.5 in /sw/spack-levante/mambaforge-22.9.0-2-Linux-x86_64-kptncg/lib/python3.10/site-packages (from python-dateutil>=2.7->matplotlib<3.9,>=1.5->basemap) (1.16.0)\n",
      "Installing collected packages: basemap-data, basemap\n",
      "Successfully installed basemap-1.4.1 basemap-data-1.3.2\n"
     ]
    }
   ],
   "source": [
    "!pip install basemap"
   ]
  }
 ],
 "metadata": {
  "kernelspec": {
   "display_name": "1 Python 3 (based on the module python3/2023.01)",
   "language": "python",
   "name": "python3_2023_01"
  },
  "language_info": {
   "codemirror_mode": {
    "name": "ipython",
    "version": 3
   },
   "file_extension": ".py",
   "mimetype": "text/x-python",
   "name": "python",
   "nbconvert_exporter": "python",
   "pygments_lexer": "ipython3",
   "version": "3.10.10"
  }
 },
 "nbformat": 4,
 "nbformat_minor": 5
}
